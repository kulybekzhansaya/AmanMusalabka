{
 "cells": [
  {
   "cell_type": "markdown",
   "id": "7oTAbB-jLCBG",
   "metadata": {
    "id": "7oTAbB-jLCBG"
   },
   "source": [
    "# Зертханалық жұмыстар: Шешім ағаштары\n",
    "\n",
    "Бұл жаттығуда сіз шешім ағашын нөлден бастап жүзеге асырасыз және оны саңырауқұлақтың жеуге жарамды немесе улы екенін жіктеу тапсырмасына қолданасыз."
   ]
  },
  {
   "cell_type": "markdown",
   "id": "YGJMyBYFLWeJ",
   "metadata": {
    "id": "YGJMyBYFLWeJ"
   },
   "source": [
    "# 1- Қажетті кітапханалар\n",
    "\n",
    "Алдымен, осы тапсырма кезінде қажет болатын барлық бумаларды импорттау үшін төмендегі ұяшықты іске қосайық.\n",
    "\n",
    "* numpy - Python-да матрицалармен жұмыс істеуге арналған негізгі пакет.\n",
    "* matplotlib - бұл Python тілінде графиктерді салуға арналған әйгілі кітапхана.\n",
    "* public_tests осы тапсырма үшін көмекші функцияларды қамтиды. Бұл файлдағы кодты өзгерту қажет емес.\n",
    "\n",
    "\n"
   ]
  },
  {
   "cell_type": "code",
   "execution_count": 3,
   "id": "ekIf1ZtCLCBK",
   "metadata": {
    "id": "ekIf1ZtCLCBK"
   },
   "outputs": [],
   "source": [
    "import numpy as np\n",
    "import matplotlib.pyplot as plt\n",
    "from public_tests import *\n",
    "\n",
    "%matplotlib inline"
   ]
  },
  {
   "cell_type": "markdown",
   "id": "9_OexK5nLCBL",
   "metadata": {
    "id": "9_OexK5nLCBL"
   },
   "source": [
    "## 2 - Мәселе туралы мәлімдеме\n",
    "\n",
    "Сіз жабайы саңырауқұлақтарды өсіретін және сататын компанияны ашып жатырсыз делік.\n",
    "\n",
    "- Саңырауқұлақтардың барлығы жеуге жарамсыз болғандықтан, сіз оның физикалық қасиеттеріне қарай оның жеуге жарамды немесе улы екенін анықтағыңыз келеді.\n",
    "- Сізде осы тапсырма үшін пайдалануға болатын кейбір деректер бар.\n",
    "\n",
    "Қандай саңырауқұлақтарды қауіпсіз сатуға болатынын анықтау үшін деректерді пайдалана аласыз ба?\n",
    "\n",
    "Ескертпе: Пайдаланылған деректер жиыны тек көрнекі мақсаттарға арналған. Бұл жеуге болатын саңырауқұлақтарды анықтауға арналған нұсқаулық емес.\n",
    "\n",
    "\n",
    "\n",
    "## 3 - Dataset\n",
    "\n",
    "Осы тапсырма үшін деректер жинағын жүктеу арқылы бастайсыз. Сіз жинаған деректер жинағы келесідей:\n",
    "\n",
    "| Cap Color | Stalk Shape | Solitary | Edible |\n",
    "|:---------:|:-----------:|:--------:|:------:|\n",
    "|   Brown   |   Tapering  |    Yes   |    1   |\n",
    "|   Brown   |  Enlarging  |    Yes   |    1   |\n",
    "|   Brown   |  Enlarging  |    No    |    0   |\n",
    "|   Brown   |  Enlarging  |    No    |    0   |\n",
    "|   Brown   |   Tapering  |    Yes   |    1   |\n",
    "|    Red    |   Tapering  |    Yes   |    0   |\n",
    "|    Red    |  Enlarging  |    No    |    0   |\n",
    "|   Brown   |  Enlarging  |    Yes   |    1   |\n",
    "|    Red    |   Tapering  |    No    |    1   |\n",
    "|   Brown   |  Enlarging  |    No    |    0   |\n",
    "\n",
    "\n",
    "- Сізде саңырауқұлақтардың 10 мысалы бар. Әрбір мысал үшін сізде бар\n",
    "  - Үш ерекшелік\n",
    "        - Cap Color (`Brown` or `Red`),\n",
    "        - Stalk Shape (`Tapering` or `Enlarging`), and\n",
    "        - Solitary (`Yes` or `No`)\n",
    "\n",
    "<a name=\"3.1\"></a>\n",
    "### 3.1 One hot кодталған деректер жинағы\n",
    "Іске асырудың қарапайымдылығы үшін бізде мүмкіндіктер бір реттік кодталған (оларды 0 немесе 1 құнды мүмкіндіктерге айналдырдық)\n",
    "\n",
    "| Brown Cap | Tapering Stalk Shape | Solitary | Edible |\n",
    "|:---------:|:--------------------:|:--------:|:------:|\n",
    "|     1     |           1          |     1    |    1   |\n",
    "|     1     |           0          |     1    |    1   |\n",
    "|     1     |           0          |     0    |    0   |\n",
    "|     1     |           0          |     0    |    0   |\n",
    "|     1     |           1          |     1    |    1   |\n",
    "|     0     |           1          |     1    |    0   |\n",
    "|     0     |           0          |     0    |    0   |\n",
    "|     1     |           0          |     1    |    1   |\n",
    "|     0     |           1          |     0    |    1   |\n",
    "|     1     |           0          |     0    |    0   |\n",
    "\n",
    "Сондықтан,\n",
    "\n",
    "- `X_train` әр мысал үшін үш белгіден (feature) тұрады:  \n",
    "  - Brown Color (`1` мәні қалпақ түсінің \"Brown\" екенін, ал `0` мәні \"Red\" екенін білдіреді)  \n",
    "  - Tapering Shape (`1` мәні саңырауқұлақ сабағының \"Tapering\" (жіңішкеретін) пішінін, ал `0` мәні \"Enlarging\" (кеңейетін) пішінін білдіреді)  \n",
    "  - Solitary (`1` мәні \"Иә\" дегенді, ал `0` мәні \"Жоқ\" дегенді білдіреді)\n",
    "\n",
    "- `y_train` саңырауқұлақтың жеуге жарамды-жарамсыз екенін көрсетеді:  \n",
    "  - `y = 1` саңырауқұлақ жеуге жарамды екенін білдіреді  \n",
    "  - `y = 0` саңырауқұлақ улы екенін білдіреді"
   ]
  },
  {
   "cell_type": "code",
   "execution_count": 4,
   "id": "DeSOQg31LCBM",
   "metadata": {
    "id": "DeSOQg31LCBM"
   },
   "outputs": [],
   "source": [
    "X_train = np.array([[1,1,1],[1,0,1],[1,0,0],[1,0,0],[1,1,1],[0,1,1],[0,0,0],[1,0,1],[0,1,0],[1,0,0]])\n",
    "y_train = np.array([1,1,0,0,1,0,0,1,1,0])"
   ]
  },
  {
   "cell_type": "markdown",
   "id": "oWkOLfKTLCBN",
   "metadata": {
    "id": "oWkOLfKTLCBN"
   },
   "source": [
    "#### Айнымалыларды қарау  \n",
    "Деректер жинағыңызбен жақсырақ танысу үшін ең тиімді әдістердің бірі – әрбір айнымалыны басып шығарып, оның қандай деректерді қамтитынын тексеру.\n",
    "\n",
    "Төмендегі код `X_train` айнымалысының алғашқы бірнеше элементін және оның түрін (type) басып шығарады:"
   ]
  },
  {
   "cell_type": "code",
   "execution_count": 5,
   "id": "gKUQSseALCBN",
   "metadata": {
    "colab": {
     "base_uri": "https://localhost:8080/"
    },
    "id": "gKUQSseALCBN",
    "outputId": "b5914455-feec-48fe-8b32-bba941b1d1e8"
   },
   "outputs": [
    {
     "name": "stdout",
     "output_type": "stream",
     "text": [
      "X_train алғашқы бірнеше элементтері:\n",
      " [[1 1 1]\n",
      " [1 0 1]\n",
      " [1 0 0]\n",
      " [1 0 0]\n",
      " [1 1 1]]\n",
      "X_trainның дерек түрі: <class 'numpy.ndarray'>\n"
     ]
    }
   ],
   "source": [
    "print(\"X_train алғашқы бірнеше элементтері:\\n\", X_train[:5])\n",
    "print(\"X_trainның дерек түрі:\",type(X_train))"
   ]
  },
  {
   "cell_type": "markdown",
   "id": "jDKIQOi6LCBO",
   "metadata": {
    "id": "jDKIQOi6LCBO"
   },
   "source": [
    "Енді «y_train» үшін де солай істейік"
   ]
  },
  {
   "cell_type": "code",
   "execution_count": 6,
   "id": "lzgxAGi4LCBO",
   "metadata": {
    "colab": {
     "base_uri": "https://localhost:8080/"
    },
    "id": "lzgxAGi4LCBO",
    "outputId": "098b0129-bdd7-421f-cb88-7a98d16d88ec"
   },
   "outputs": [
    {
     "name": "stdout",
     "output_type": "stream",
     "text": [
      "X_train алғашқы бірнеше элементтері [1 1 0 0 1]\n",
      "y_train дерек түрі: <class 'numpy.ndarray'>\n"
     ]
    }
   ],
   "source": [
    "print(\"X_train алғашқы бірнеше элементтері\", y_train[:5])\n",
    "print(\"y_train дерек түрі:\",type(y_train))"
   ]
  },
  {
   "cell_type": "markdown",
   "id": "LdPBpxOdLCBO",
   "metadata": {
    "id": "LdPBpxOdLCBO"
   },
   "source": [
    "#### Check the dimensions of your variables\n",
    "\n",
    "Another useful way to get familiar with your data is to view its dimensions.\n",
    "\n",
    "Please print the shape of `X_train` and `y_train` and see how many training examples you have in your dataset."
   ]
  },
  {
   "cell_type": "code",
   "execution_count": 7,
   "id": "Gf74m36yLCBP",
   "metadata": {
    "colab": {
     "base_uri": "https://localhost:8080/"
    },
    "id": "Gf74m36yLCBP",
    "outputId": "ac8e6ada-84ed-47c8-95d6-2790e90f08b7"
   },
   "outputs": [
    {
     "name": "stdout",
     "output_type": "stream",
     "text": [
      "X_train өлшемі: (10, 3)\n",
      "y_train өлшемі: (10,)\n",
      "Жаттығу жиынтығындағы мысалдар саны (m): 10\n"
     ]
    }
   ],
   "source": [
    "print('X_train өлшемі:', X_train.shape)\n",
    "print('y_train өлшемі:', y_train.shape)\n",
    "print('Жаттығу жиынтығындағы мысалдар саны (m):', len(X_train))"
   ]
  },
  {
   "cell_type": "markdown",
   "id": "H43saLe_LCBQ",
   "metadata": {
    "id": "H43saLe_LCBQ"
   },
   "source": [
    "## 4 - Decision Tree Қайталама\n",
    "\n",
    "Осы практикалық жұмыста сіз берілген деректер жиынтығы негізінде шешім ағашын құрасыз.\n",
    "\n",
    "### Шешім ағашын құру қадамдары:\n",
    "\n",
    "1. **Тамыр түйінінен (root node) бастау:**  \n",
    "   Барлық мысалдар тамыр түйінінде болады.\n",
    "\n",
    "2. **Ақпараттық ұтысты (Information Gain) есептеу:**  \n",
    "   Барлық мүмкін белгілер бойынша ақпараттық ұтысты есептеп, ең үлкен ұтыс беретін белгіні таңдау.\n",
    "\n",
    "3. **Деректер жиынын бөлу:**  \n",
    "   Таңдалған белгі бойынша деректерді бөліп, ағаштың сол және оң тармақтарын (left and right branches) құру.\n",
    "\n",
    "4. **Бөлуді қайталау:**  \n",
    "   Тоқтату критерийі орындалғанға дейін бөлуді қайталай беру.\n",
    "\n",
    "---\n",
    "\n",
    "### Осы лабораториялық жұмыста сіз келесі функцияларды жүзеге асырасыз:\n",
    "\n",
    "- **Энтропияны есептеу:**  \n",
    "  Белгілі бір түйіндегі энтропияны есептейді.\n",
    "\n",
    "- **Деректер жиынын бөлу:**  \n",
    "  Белгілі бір түйінде берілген белгіге байланысты деректерді сол және оң тармақтарға бөледі.\n",
    "\n",
    "- **Ақпараттық ұтысты есептеу:**  \n",
    "  Берілген белгі бойынша бөлуден алынған ақпараттық ұтысты есептейді.\n",
    "\n",
    "- **Ең үлкен ақпараттық ұтыс беретін белгіні таңдау:**  \n",
    "  Жиынтыдағы барлық белгілер арасында ең тиімдісін анықтайды.\n",
    "\n",
    "---\n",
    "\n",
    "### Шешім ағашын құру:\n",
    "\n",
    "Сіз жасаған көмекші функцияларды пайдаланып, шешім ағашын құрасыз. Бөлуді тоқтату критерийі ретінде біз ағаштың максималды тереңдігін 2-ге орнатамыз."
   ]
  },
  {
   "cell_type": "markdown",
   "id": "2WK9vlz-LCBQ",
   "metadata": {
    "id": "2WK9vlz-LCBQ"
   },
   "source": [
    "###  Энтропияны есептеу\n",
    "\n",
    "Ең алдымен, сіз түйінде энтропияны (ласушылықтың өлшемі) есептейтін `compute_entropy` деп аталатын көмекші функция жазасыз.\n",
    "- Функция numpy массивін (`y`) аргумент ретінде қабылдайды, онда түйіндегі үлгілер жеуге жарамды (`1`) немесе уланған (`0`) екенін көрсетеді.\n",
    "\n",
    "Төмендегі `compute_entropy()` функциясын келесі нұсқауларға сәйкес толықтырыңыз:\n",
    "* Жеге жарамды үлгілердің үлесін ($p_1$) есептеңіз (яғни, `y` массивіндегі мәні `1` болатын үлгілердің үлесі)\n",
    "* Энтропия келесі формула бойынша есептеледі\n",
    "\n",
    "$$H(p_1) = -p_1 \\text{log}_2(p_1) - (1- p_1) \\text{log}_2(1- p_1)$$\n",
    "* Ескерту:\n",
    "    * Логарифм негізі $2$-ге тең\n",
    "    * Реализация барысында, $0\\text{log}_2(0) = 0$ деп есептеледі. Яғни, егер `p_1 = 0` немесе `p_1 = 1` болса, энтропияны `0` деп орнатыңыз\n",
    "    * Түйіндегі деректер бос емес екеніне (яғни, `len(y) != 0`) көз жеткізіңіз. Егер бос болса, `0` қайтарыңыз\n",
    "\n",
    "<a name=\"ex01\"></a>\n",
    "### 1-ші Тапсырма\n",
    "\n",
    "Алдыңғы нұсқауларға сүйене отырып, `compute_entropy()` функциясын толықтырыңыз.\n",
    "\n",
    "Егер қиындық туындаса, келесі ұяшықтан кейін берілген кеңестерді қарап, іске асыруға көмек алыңыз."
   ]
  },
  {
   "cell_type": "code",
   "execution_count": 8,
   "id": "fD4aoceZLCBR",
   "metadata": {
    "id": "fD4aoceZLCBR"
   },
   "outputs": [],
   "source": [
    "import numpy as np\n",
    "\n",
    "def compute_entropy(y):\n",
    "    \"\"\"\n",
    "    Энтропияны есептейді\n",
    "    \n",
    "    Параметрлер:\n",
    "       y (ndarray): Әрбір үлгінің түйінде жеуге жарамды (`1`) немесе уланған (`0`) екенін көрсететін numpy массиві\n",
    "    \n",
    "    Қайтарылатын мән:\n",
    "        entropy (float): Түйіндегі энтропия\n",
    "    \"\"\"\n",
    "    # Төмендегі айнымалыларды дұрыс қайтаруыңыз қажет\n",
    "    entropy = 0.\n",
    "    \n",
    "    ### КОДТЫ ОСЫ ЖЕРДЕ БАСТАҢЫЗ ###\n",
    "    # Егер y бос болса, энтропия 0\n",
    "    if len(y) == 0:\n",
    "        return 0.0\n",
    "    \n",
    "    # p1 - жеуге жарамды (1) үлгілердің үлесі\n",
    "    p1 = np.mean(y)\n",
    "    \n",
    "    # Егер p1 = 0 немесе p1 = 1 болса, энтропия 0\n",
    "    if p1 == 0 or p1 == 1:\n",
    "        return 0.0\n",
    "    \n",
    "    # Энтропия формуласы бойынша есептеу\n",
    "    entropy = -p1 * np.log2(p1) - (1 - p1) * np.log2(1 - p1)\n",
    "    ### КОДТЫ ОСЫ ЖЕРДЕ АЯҚТАҢЫЗ ###\n",
    "    \n",
    "    return entropy\n"
   ]
  },
  {
   "cell_type": "markdown",
   "id": "o6Df9JIlLCBR",
   "metadata": {
    "id": "o6Df9JIlLCBR"
   },
   "source": [
    "Келесі сынақ кодын іске қосу арқылы іске асырудың дұрыстығын тексеруге болады:"
   ]
  },
  {
   "cell_type": "code",
   "execution_count": 9,
   "id": "o57gLeTELCBS",
   "metadata": {
    "colab": {
     "base_uri": "https://localhost:8080/"
    },
    "id": "o57gLeTELCBS",
    "outputId": "dbf8bba2-c62f-4c50-d24a-b4e1ecc21e35"
   },
   "outputs": [
    {
     "name": "stdout",
     "output_type": "stream",
     "text": [
      "Түбірлік түйіндегі энтропия:  1.0\n",
      "\u001b[92m All tests passed.\n"
     ]
    }
   ],
   "source": [
    "# Compute entropy at the root node (i.e. with all examples)\n",
    "# Since we have 5 edible and 5 non-edible mushrooms, the entropy should be 1\"\n",
    "\n",
    "print(\"Түбірлік түйіндегі энтропия: \", compute_entropy(y_train))\n",
    "\n",
    "# UNIT TESTS\n",
    "compute_entropy_test(compute_entropy)"
   ]
  },
  {
   "cell_type": "markdown",
   "id": "v8mqZUMULCBS",
   "metadata": {
    "id": "v8mqZUMULCBS"
   },
   "source": [
    "<a name=\"4.2\"></a>\n",
    "### 4.2  Деректер жиынын бөлу\n",
    "\n",
    "Келесі қадамда, сіз түйіндегі деректер мен бөлінетін ерекшелікті қабылдайтын, содан кейін оны сол және оң тармақтарға бөлетін `split_dataset` деп аталатын көмекші функция жазасыз. Кейінірек, лабораторияда сіз бөлудің қаншалықты жақсы екенін есептеу үшін кодты жүзеге асырасыз.\n",
    "\n",
    "- Функция түйіндегі деректердің индекс тізімін, оқыту деректерін және бөлінетін ерекшелікті (feature) қабылдайды.\n",
    "- Ол деректерді бөледі және сол және оң тармақтағы индекстердің жиынын қайтарады.\n",
    "- Мысалы, түбір түйіннен бастайық делік (яғни, `node_indices = [0,1,2,3,4,5,6,7,8,9]`), және біз ерекшелік ретінде мысалының қоңыр қалпағының бар-жоғын (1 — бар, 0 — жоқ) қолданамыз.\n",
    "    - Функцияның нәтижесінде, `left_indices = [0,1,2,3,4,7,9]` және `right_indices = [5,6,8]` болады.\n",
    "    \n",
    "| Индекс | Қоңыр Қалпақ | Шырайлы Соққының Пішіні | Жалғыз | Жеміс   |\n",
    "|:------:|:------------:|:----------------------:|:------:|:------:|\n",
    "|   0    |      1       |           1            |    1   |   1    |\n",
    "|   1    |      1       |           0            |    1   |   1    |\n",
    "|   2    |      1       |           0            |    0   |   0    |\n",
    "|   3    |      1       |           0            |    0   |   0    |\n",
    "|   4    |      1       |           1            |    1   |   1    |\n",
    "|   5    |      0       |           1            |    1   |   0    |\n",
    "|   6    |      0       |           0            |    0   |   0    |\n",
    "|   7    |      1       |           0            |    1   |   1    |\n",
    "|   8    |      0       |           1            |    0   |   1    |\n",
    "|   9    |      1       |           0            |    0   |   0    |\n",
    "\n",
    "<a name=\"ex02\"></a>\n",
    "### 2-ші Тапсырма\n",
    "\n",
    "Төменде көрсетілген `split_dataset()` функциясын келесі нұсқауларға сәйкес толықтырыңыз:\n",
    "\n",
    "- `node_indices` тізіміндегі әрбір индекс үшін:\n",
    "    - Егер `X` массивіндегі, сол индекс пен ерекшелік бойынша алынған мән `1` болса, сол индекс `left_indices` тізіміне қосыңыз\n",
    "    - Егер `X` массивіндегі, сол индекс пен ерекшелік бойынша алынған мән `0` болса, сол индекс `right_indices` тізіміне қосыңыз\n",
    "\n",
    "Егер қиындық туындаса, келесі ұяшықтан кейін берілген кеңестерді қарап, іске асыруға көмек алыңыз."
   ]
  },
  {
   "cell_type": "code",
   "execution_count": 14,
   "id": "Jyh23kW2LCBT",
   "metadata": {
    "id": "Jyh23kW2LCBT"
   },
   "outputs": [],
   "source": [
    "def split_dataset(X, node_indices, feature):\n",
    "    \"\"\"\n",
    "    Берілген түйіндегі деректерді сол және оң тармақтарға бөледі\n",
    "\n",
    "    Параметрлер:\n",
    "        X (ndarray):          (n_samples, n_features) өлшеміндегі деректер матрицасы\n",
    "        node_indices (list):  Қазіргі таңда қарастырылып отырған үлгілердің индекстер тізімі.\n",
    "        feature (int):        Бөлуге қолданылатын ерекшеліктің индексі\n",
    "\n",
    "    Қайтарылатын мәндер:\n",
    "        left_indices (list):  Мәні == 1 болатын ерекшелік индекстері\n",
    "        right_indices (list): Мәні == 0 болатын ерекшелік индекстері\n",
    "    \"\"\"\n",
    "\n",
    "    # Төмендегі айнымалыларды дұрыс қайтаруыңыз қажет\n",
    "    left_indices = []\n",
    "    right_indices = []\n",
    "\n",
    "    ### КОДТЫ ОСЫ ЖЕРДЕ БАСТАҢЫЗ ###\n",
    "    for index in node_indices:\n",
    "        if X[index, feature] == 1:\n",
    "            left_indices.append(index)\n",
    "        else:\n",
    "            right_indices.append(index)\n",
    "\n",
    "    ### КОДТЫ ОСЫ ЖЕРДЕ АЯҚТАҢЫЗ ###\n",
    "\n",
    "    return left_indices, right_indices\n"
   ]
  },
  {
   "cell_type": "markdown",
   "id": "5UBCtTEnLCBT",
   "metadata": {
    "id": "5UBCtTEnLCBT"
   },
   "source": [
    "Now, let's check your implementation using the code blocks below. Let's try splitting the dataset at the root node, which contains all examples at feature 0 (Brown Cap) as we'd discussed above"
   ]
  },
  {
   "cell_type": "code",
   "execution_count": 15,
   "id": "rDyewr5xLCBT",
   "metadata": {
    "colab": {
     "base_uri": "https://localhost:8080/"
    },
    "id": "rDyewr5xLCBT",
    "outputId": "b44c10b5-1cf3-49e0-911a-d9465a119fb4"
   },
   "outputs": [
    {
     "name": "stdout",
     "output_type": "stream",
     "text": [
      "Сол индекстер:  [0, 1, 2, 3, 4, 7, 9]\n",
      "Оң индекстер:  [5, 6, 8]\n",
      "\u001b[92m All tests passed.\n"
     ]
    }
   ],
   "source": [
    "root_indices = [0, 1, 2, 3, 4, 5, 6, 7, 8, 9]\n",
    "\n",
    "# Осы айнымалылармен еркін эксперимент жасаңыз\n",
    "# Деректер жиынында тек үш ерекшелік бар, сондықтан бұл мән 0 (Қоңыр Қалпақ), 1 (Шырайлы Соққының Пішіні) немесе 2 (Жалғыз) болуы мүмкін\n",
    "feature = 0\n",
    "\n",
    "left_indices, right_indices = split_dataset(X_train, root_indices, feature)\n",
    "\n",
    "print(\"Сол индекстер: \", left_indices)\n",
    "print(\"Оң индекстер: \", right_indices)\n",
    "\n",
    "# БӨЛІКТЕУ ТЕСТІ\n",
    "split_dataset_test(split_dataset)\n"
   ]
  },
  {
   "cell_type": "markdown",
   "id": "NQIZqK2lLCBU",
   "metadata": {
    "id": "NQIZqK2lLCBU"
   },
   "source": [
    "<a name=\"4.3\"></a>\n",
    "### 4.3  Ақпараттық пайданы есептеу\n",
    "\n",
    "Келесі қадамда, сіз оқыту деректерін, түйіндегі индекстерді және бөлінетін ерекшелікті қабылдайтын, содан кейін бөлуден алынған ақпараттық пайданы қайтаратын `information_gain` деп аталатын функция жазасыз.\n",
    "\n",
    "<a name=\"ex03\"></a>\n",
    "### 3-ші Тапсырма\n",
    "\n",
    "Төменде берілген `compute_information_gain()` функциясын келесі формула бойынша есептеу үшін толықтырыңыз:\n",
    "\n",
    "$$\\text{Information Gain} = H(p_1^\\text{node})- (w^{\\text{left}}H(p_1^\\text{left}) + w^{\\text{right}}H(p_1^\\text{right}))$$\n",
    "\n",
    "мұнда:\n",
    "- $H(p_1^\\text{node})$ – түйіндегі энтропия\n",
    "- $H(p_1^\\text{left})$ және $H(p_1^\\text{right})$ – бөлуден кейінгі сол және оң тармақтардағы энтропиялар\n",
    "- $w^{\\text{left}}$ және $w^{\\text{right}}$ – сәйкесінше сол және оң тармақтардағы үлгілердің үлесі\n",
    "\n",
    "Ескерту:\n",
    "- Энтропияны есептеу үшін жоғарыда іске асырған `compute_entropy()` функциясын пайдалана аласыз\n",
    "- Біз деректер жиынын бөлу үшін жоғарыда іске асырған `split_dataset()` функциясын қолданатын бастапқы кодты ұсындық\n",
    "\n",
    "Егер қиындық туындаса, іске асыруға көмек беру үшін келесі ұяшықтағы кеңестерді қараңыз."
   ]
  },
  {
   "cell_type": "code",
   "execution_count": 16,
   "id": "NmNo6B09LCBV",
   "metadata": {
    "id": "NmNo6B09LCBV"
   },
   "outputs": [],
   "source": [
    "# Бағаланатын ФУНКЦИЯ: compute_information_gain\n",
    "\n",
    "def compute_information_gain(X, y, node_indices, feature):\n",
    "    \"\"\"\n",
    "    Берілген ерекшілік бойынша түйінді бөлу арқылы ақпараттық пайданы есептейді\n",
    "\n",
    "    Параметрлер:\n",
    "        X (ndarray):            (n_samples, n_features) өлшеміндегі деректер матрицасы\n",
    "        y (array like):         n_samples мөлшеріндегі мақсатты айнымалыны қамтитын тізім немесе ndarray\n",
    "        node_indices (ndarray): Осы қадамда қарастырылып отырған үлгілердің индекстер тізімі\n",
    "\n",
    "    Қайтарылатын мән:\n",
    "        cost (float):        Есептелген шығын (ақпараттық пайда)\n",
    "    \"\"\"\n",
    "    # Деректер жиынын бөлу\n",
    "    left_indices, right_indices = split_dataset(X, node_indices, feature)\n",
    "\n",
    "    # Кейбір пайдалы айнымалылар\n",
    "    X_node, y_node = X[node_indices], y[node_indices]\n",
    "    X_left, y_left = X[left_indices], y[left_indices]\n",
    "    X_right, y_right = X[right_indices], y[right_indices]\n",
    "\n",
    "    # Төмендегі айнымалыларды дұрыс қайтаруыңыз қажет\n",
    "    information_gain = 0\n",
    "\n",
    "    ### КОДТЫ ОСЫ ЖЕРДЕ БАСТАҢЫЗ ###\n",
    "    H_node = compute_entropy(y_node)\n",
    "    H_left = compute_entropy(y_left) if len(y_left) > 0 else 0\n",
    "    H_right = compute_entropy(y_right) if len(y_right) > 0 else 0\n",
    "    \n",
    "    w_left = len(y_left) / len(y_node)\n",
    "    w_right = len(y_right) / len(y_node)\n",
    "    \n",
    "    information_gain = H_node - (w_left * H_left + w_right * H_right)\n",
    "    ### КОДТЫ ОСЫ ЖЕРДЕ АЯҚТАҢЫЗ ###\n",
    "    \n",
    "    return information_gain\n",
    "\n"
   ]
  },
  {
   "cell_type": "markdown",
   "id": "BHFIqgiaLCBW",
   "metadata": {
    "id": "BHFIqgiaLCBW"
   },
   "source": [
    "Енді төмендегі ұяшықты пайдаланып іске асыруды тексеруге және мүмкіндіктердің әрқайсысына бөлуден алынған ақпараттың қандай болатынын есептей аласыз."
   ]
  },
  {
   "cell_type": "code",
   "execution_count": 17,
   "id": "dAwiAM_aLCBW",
   "metadata": {
    "colab": {
     "base_uri": "https://localhost:8080/"
    },
    "id": "dAwiAM_aLCBW",
    "outputId": "f7644567-b2ea-43c5-a696-c504ac9e70f4"
   },
   "outputs": [
    {
     "name": "stdout",
     "output_type": "stream",
     "text": [
      "Түбірді қоңыр қалпақ бойынша бөлуден алынған ақпараттық пайда:  0.034851554559677034\n",
      "Түбірді шырайлы соққының пішіні бойынша бөлуден алынған ақпараттық пайда:  0.12451124978365313\n",
      "Түбірді жалғыз бойынша бөлуден алынған ақпараттық пайда:  0.2780719051126377\n",
      "\u001b[92m All tests passed.\n"
     ]
    }
   ],
   "source": [
    "info_gain0 = compute_information_gain(X_train, y_train, root_indices, feature=0)\n",
    "print(\"Түбірді қоңыр қалпақ бойынша бөлуден алынған ақпараттық пайда: \", info_gain0)\n",
    "\n",
    "info_gain1 = compute_information_gain(X_train, y_train, root_indices, feature=1)\n",
    "print(\"Түбірді шырайлы соққының пішіні бойынша бөлуден алынған ақпараттық пайда: \", info_gain1)\n",
    "\n",
    "info_gain2 = compute_information_gain(X_train, y_train, root_indices, feature=2)\n",
    "print(\"Түбірді жалғыз бойынша бөлуден алынған ақпараттық пайда: \", info_gain2)\n",
    "\n",
    "# БӨЛІКТЕУ ТЕСТІ\n",
    "compute_information_gain_test(compute_information_gain)\n"
   ]
  },
  {
   "cell_type": "markdown",
   "id": "GTfvj1rvLCBW",
   "metadata": {
    "id": "GTfvj1rvLCBW"
   },
   "source": [
    "Түбірлік түйінде «Жалғыз» (мүмкіндік = 2) бойынша бөлу ақпараттың максималды пайдасын береді. Сондықтан, бұл түбірлік түйінде бөлуге болатын ең жақсы мүмкіндік."
   ]
  },
  {
   "cell_type": "markdown",
   "id": "3hvEjCSaLCBW",
   "metadata": {
    "id": "3hvEjCSaLCBW"
   },
   "source": [
    "<a name=\"4.4\"></a>\n",
    "### 4.4  Ең жақсы бөлуді анықтау\n",
    "\n",
    "Енді әр ерекшелік бойынша ақпараттық пайданы есептеп, ең үлкен ақпараттық пайданы беретін ерекшелікті қайтарып беретін функция жазайық.\n",
    "\n",
    "<a name=\"ex04\"></a>\n",
    "### 4-ші Тапсырма\n",
    "\n",
    "Төменде берілген `get_best_split()` функциясын толықтырыңыз.\n",
    "- Функция оқыту деректерін және түйіндегі үлгілердің индекстерін қабылдайды.\n",
    "- Функцияның нәтижесінде ең үлкен ақпараттық пайданы беретін ерекшелік қайтарылады.\n",
    "    - Әр ерекшелік үшін ақпараттық пайданы есептеу мақсатында `compute_information_gain()` функциясын пайдалана аласыз.\n",
    "    \n",
    "Егер қиындық туындаса, іске асыруға көмек беру үшін келесі ұяшықтағы кеңестерді қараңыз."
   ]
  },
  {
   "cell_type": "code",
   "execution_count": 24,
   "id": "U9sqZ3LtLCBW",
   "metadata": {
    "id": "U9sqZ3LtLCBW"
   },
   "outputs": [],
   "source": [
    "# UNQ_C4\n",
    "# Бағаланатын ФУНКЦИЯ: get_best_split\n",
    "\n",
    "def get_best_split(X, y, node_indices):\n",
    "    \"\"\"\n",
    "    Түйіндегі деректерді бөлу үшін ең тиімді ерекшелік пен шекті мәнді қайтарады\n",
    "\n",
    "    Параметрлер:\n",
    "        X (ndarray):            (n_samples, n_features) өлшеміндегі деректер матрицасы\n",
    "        y (array like):         Мақсатты айнымалыны қамтитын n_samples мөлшеріндегі тізім немесе ndarray\n",
    "        node_indices (ndarray): Осы қадамда қарастырылып отырған үлгілердің индекстер тізімі\n",
    "\n",
    "    Қайтарылатын мән:\n",
    "        best_feature (int):     Бөлу үшін ең жақсы ерекшеліктің индексі\n",
    "    \"\"\"\n",
    "    # Кейбір пайдалы айнымалылар\n",
    "    num_features = X.shape[1]\n",
    "\n",
    "    # Егер мақсатты айнымалы таза болса (барлық мәндер бірдей), -1 қайтарамыз\n",
    "    if len(set(y[node_indices])) == 1:\n",
    "        return -1\n",
    "\n",
    "    # Төмендегі айнымалыларды дұрыс қайтаруыңыз қажет\n",
    "    best_feature = -1\n",
    "    max_information_gain = float('-inf')\n",
    "\n",
    "    ### КОДТЫ ОСЫ ЖЕРДЕ БАСТАҢЫЗ ###\n",
    "    for feature in range(num_features):\n",
    "        information_gain = compute_information_gain(X, y, node_indices, feature)\n",
    "        if information_gain > max_information_gain:\n",
    "            max_information_gain = information_gain\n",
    "            best_feature = feature\n",
    "    ### КОДТЫ ОСЫ ЖЕРДЕ АЯҚТАҢЫЗ ###\n",
    "    \n",
    "    return best_feature\n"
   ]
  },
  {
   "cell_type": "markdown",
   "id": "SesfxBtiLCBX",
   "metadata": {
    "id": "SesfxBtiLCBX"
   },
   "source": [
    "Енді төмендегі ұяшықты пайдаланып функцияңыздың орындалуын тексерейік."
   ]
  },
  {
   "cell_type": "code",
   "execution_count": 25,
   "id": "cq-Lq3btLCBX",
   "metadata": {
    "colab": {
     "base_uri": "https://localhost:8080/"
    },
    "id": "cq-Lq3btLCBX",
    "outputId": "48f51c9c-03df-4451-b226-eadac199eb00"
   },
   "outputs": [
    {
     "name": "stdout",
     "output_type": "stream",
     "text": [
      "Бөлу үшін ең жақсы ерекшелік: 2\n"
     ]
    },
    {
     "ename": "TypeError",
     "evalue": "unhashable type: 'numpy.ndarray'",
     "output_type": "error",
     "traceback": [
      "\u001b[1;31m---------------------------------------------------------------------------\u001b[0m",
      "\u001b[1;31mTypeError\u001b[0m                                 Traceback (most recent call last)",
      "Cell \u001b[1;32mIn[25], line 5\u001b[0m\n\u001b[0;32m      2\u001b[0m \u001b[38;5;28mprint\u001b[39m(\u001b[38;5;124m\"\u001b[39m\u001b[38;5;124mБөлу үшін ең жақсы ерекшелік: \u001b[39m\u001b[38;5;132;01m%d\u001b[39;00m\u001b[38;5;124m\"\u001b[39m \u001b[38;5;241m%\u001b[39m best_feature)\n\u001b[0;32m      4\u001b[0m \u001b[38;5;66;03m# БӨЛІКТЕУ ТЕСТІ\u001b[39;00m\n\u001b[1;32m----> 5\u001b[0m get_best_split_test(get_best_split)\n",
      "File \u001b[1;32m~\\Downloads\\public_tests.py:120\u001b[0m, in \u001b[0;36mget_best_split_test\u001b[1;34m(target)\u001b[0m\n\u001b[0;32m    117\u001b[0m y \u001b[38;5;241m=\u001b[39m np\u001b[38;5;241m.\u001b[39marray([[\u001b[38;5;241m0\u001b[39m, \u001b[38;5;241m0\u001b[39m, \u001b[38;5;241m0\u001b[39m, \u001b[38;5;241m0\u001b[39m, \u001b[38;5;241m0\u001b[39m]])\u001b[38;5;241m.\u001b[39mT\n\u001b[0;32m    118\u001b[0m node_indexes \u001b[38;5;241m=\u001b[39m \u001b[38;5;28mlist\u001b[39m(\u001b[38;5;28mrange\u001b[39m(\u001b[38;5;241m5\u001b[39m))\n\u001b[1;32m--> 120\u001b[0m result \u001b[38;5;241m=\u001b[39m target(X, y, node_indexes)\n\u001b[0;32m    122\u001b[0m \u001b[38;5;28;01massert\u001b[39;00m result \u001b[38;5;241m==\u001b[39m \u001b[38;5;241m-\u001b[39m\u001b[38;5;241m1\u001b[39m, \u001b[38;5;124mf\u001b[39m\u001b[38;5;124m\"\u001b[39m\u001b[38;5;124mWhen the target variable is pure, there is no best split to do. Expected -1, got \u001b[39m\u001b[38;5;132;01m{\u001b[39;00mresult\u001b[38;5;132;01m}\u001b[39;00m\u001b[38;5;124m\"\u001b[39m\n\u001b[0;32m    124\u001b[0m y \u001b[38;5;241m=\u001b[39m X[:,\u001b[38;5;241m0\u001b[39m]\n",
      "Cell \u001b[1;32mIn[24], line 20\u001b[0m, in \u001b[0;36mget_best_split\u001b[1;34m(X, y, node_indices)\u001b[0m\n\u001b[0;32m     17\u001b[0m num_features \u001b[38;5;241m=\u001b[39m X\u001b[38;5;241m.\u001b[39mshape[\u001b[38;5;241m1\u001b[39m]\n\u001b[0;32m     19\u001b[0m \u001b[38;5;66;03m# Егер мақсатты айнымалы таза болса (барлық мәндер бірдей), -1 қайтарамыз\u001b[39;00m\n\u001b[1;32m---> 20\u001b[0m \u001b[38;5;28;01mif\u001b[39;00m \u001b[38;5;28mlen\u001b[39m(\u001b[38;5;28mset\u001b[39m(y[node_indices])) \u001b[38;5;241m==\u001b[39m \u001b[38;5;241m1\u001b[39m:\n\u001b[0;32m     21\u001b[0m     \u001b[38;5;28;01mreturn\u001b[39;00m \u001b[38;5;241m-\u001b[39m\u001b[38;5;241m1\u001b[39m\n\u001b[0;32m     23\u001b[0m \u001b[38;5;66;03m# Төмендегі айнымалыларды дұрыс қайтаруыңыз қажет\u001b[39;00m\n",
      "\u001b[1;31mTypeError\u001b[0m: unhashable type: 'numpy.ndarray'"
     ]
    }
   ],
   "source": [
    "best_feature = get_best_split(X_train, y_train, root_indices)\n",
    "print(\"Бөлу үшін ең жақсы ерекшелік: %d\" % best_feature)\n",
    "\n",
    "# БӨЛІКТЕУ ТЕСТІ\n",
    "get_best_split_test(get_best_split)"
   ]
  },
  {
   "cell_type": "markdown",
   "id": "xO8LHDk0LCBX",
   "metadata": {
    "id": "xO8LHDk0LCBX"
   },
   "source": [
    "Жоғарыда көргеніміздей, функция түбірлік түйінде бөлуге болатын ең жақсы мүмкіндік 2-функция («Жалғыз») екенін қайтарады."
   ]
  },
  {
   "cell_type": "markdown",
   "id": "ZztK5vTaLCBX",
   "metadata": {
    "id": "ZztK5vTaLCBX"
   },
   "source": [
    "## Ағашты құру\n",
    "\n",
    "Осы бөлімде жоғарыда іске асырған функцияларды пайдаланып, шешім ағашын құрамыз. Біз ең жақсы ерекшелікті таңдап, оны бөлуді тоқтау критерийіне жеткенше (максималды тереңдік 2) қайталаймыз.\n",
    "\n",
    "Бұл бөлім үшін қосымша іске асыру қажет емес."
   ]
  },
  {
   "cell_type": "code",
   "execution_count": 14,
   "id": "AeUx2wtkLCBX",
   "metadata": {
    "id": "AeUx2wtkLCBX"
   },
   "outputs": [],
   "source": [
    "tree = []\n",
    "\n",
    "def build_tree_recursive(X, y, node_indices, branch_name, max_depth, current_depth):\n",
    "    \"\"\"\n",
    "    Рекурсивті алгоритмді қолданып, деректер жиынын әрбір түйінде 2 топқа бөлетін ағаш құру.\n",
    "    Бұл функция тек ағашты басып шығарады.\n",
    "\n",
    "    Параметрлер:\n",
    "        X (ndarray):            (n_samples, n_features) өлшеміндегі деректер матрицасы\n",
    "        y (array like):         n_samples мөлшеріндегі мақсатты айнымалыны қамтитын тізім немесе ndarray\n",
    "        node_indices (ndarray): Осы қадамда қарастырылып отырған үлгілердің индекстер тізімі.\n",
    "        branch_name (string):   Тармақтың атауы. ['Root', 'Left', 'Right']\n",
    "        max_depth (int):        Құрылатын ағаштың максималды тереңдігі.\n",
    "        current_depth (int):    Ағымдағы тереңдік. Рекурсивті шақыру кезінде қолданылатын параметр.\n",
    "    \"\"\"\n",
    "\n",
    "    # Максималды тереңдікке жетті - бөлуді тоқтатыңыз\n",
    "    if current_depth == max_depth:\n",
    "        formatting = \" \" * current_depth + \"-\" * current_depth\n",
    "        print(formatting, \"%s жапырақты түйін, индекстері\" % branch_name, node_indices)\n",
    "        return\n",
    "\n",
    "    # Әйтпесе, ең жақсы бөлуді табыңыз және деректерді бөліңіз\n",
    "    # Осы түйіндегі ең жақсы ерекшелікті табыңыз\n",
    "    best_feature = get_best_split(X, y, node_indices)\n",
    "    tree.append((current_depth, branch_name, best_feature, node_indices))\n",
    "\n",
    "    formatting = \"-\" * current_depth\n",
    "    print(\"%s Тереңдік %d, %s: Бөлу, ерекшелік: %d\" % (formatting, current_depth, branch_name, best_feature))\n",
    "\n",
    "    # Деректер жиынын ең жақсы ерекшелік бойынша бөліңіз\n",
    "    left_indices, right_indices = split_dataset(X, node_indices, best_feature)\n",
    "\n",
    "    # Сол және оң ұрпақтарды бөлуді жалғастырыңыз. Ағымдағы тереңдікті арттырыңыз\n",
    "    build_tree_recursive(X, y, left_indices, \"Left\", max_depth, current_depth + 1)\n",
    "    build_tree_recursive(X, y, right_indices, \"Right\", max_depth, current_depth + 1)\n"
   ]
  },
  {
   "cell_type": "code",
   "execution_count": 15,
   "id": "0bdenLdgLCBY",
   "metadata": {
    "colab": {
     "base_uri": "https://localhost:8080/"
    },
    "id": "0bdenLdgLCBY",
    "outputId": "493b4e23-d4a5-4d6a-abc9-90c2531285c0"
   },
   "outputs": [
    {
     "name": "stdout",
     "output_type": "stream",
     "text": [
      " Тереңдік 0, Root: Бөлу, ерекшелік: 2\n",
      "- Тереңдік 1, Left: Бөлу, ерекшелік: 0\n",
      "  -- Left жапырақты түйін, индекстері [0, 1, 4, 7]\n",
      "  -- Right жапырақты түйін, индекстері [5]\n",
      "- Тереңдік 1, Right: Бөлу, ерекшелік: 1\n",
      "  -- Left жапырақты түйін, индекстері [8]\n",
      "  -- Right жапырақты түйін, индекстері [2, 3, 6, 9]\n"
     ]
    }
   ],
   "source": [
    "build_tree_recursive(X_train, y_train, root_indices, \"Root\", max_depth=2, current_depth=0)"
   ]
  }
 ],
 "metadata": {
  "colab": {
   "provenance": []
  },
  "kernelspec": {
   "display_name": "Python 3 (ipykernel)",
   "language": "python",
   "name": "python3"
  },
  "language_info": {
   "codemirror_mode": {
    "name": "ipython",
    "version": 3
   },
   "file_extension": ".py",
   "mimetype": "text/x-python",
   "name": "python",
   "nbconvert_exporter": "python",
   "pygments_lexer": "ipython3",
   "version": "3.11.5"
  }
 },
 "nbformat": 4,
 "nbformat_minor": 5
}
